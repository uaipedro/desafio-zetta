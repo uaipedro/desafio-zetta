{
 "cells": [
  {
   "cell_type": "markdown",
   "id": "35170e6a",
   "metadata": {},
   "source": [
    "# Análise Exploratória de Desmatamento por Município\n",
    "Integra dados de desmatamento no Pará com indicadores socioeconômicos.\n",
    "\n",
    "Etapas:\n",
    "1. Preparação\n",
    "2. Carregamento e inspeção inicial\n",
    "3. Processamento geoespacial\n",
    "4. Agregação e exportação (Bronze)\n",
    "5. Integração socioeconômica e exportação (Silver)\n",
    "6. Análise exploratória (Correlação e PCA)\n",
    "7. Visualizações"
   ]
  },
  {
   "cell_type": "markdown",
   "id": "057a716d",
   "metadata": {},
   "source": [
    "## 1. Preparação\n",
    "Bibliotecas essenciais e configurações de ambiente."
   ]
  },
  {
   "cell_type": "code",
   "execution_count": 1,
   "id": "8e8c35c5",
   "metadata": {},
   "outputs": [],
   "source": [
    "import geopandas as gpd\n",
    "import pandas as pd\n",
    "import os\n",
    "import seaborn as sns\n",
    "import matplotlib.pyplot as plt\n",
    "from sklearn.decomposition import PCA\n",
    "from sklearn.preprocessing import StandardScaler\n",
    "from scipy.stats import pearsonr\n",
    "\n",
    "sns.set(style=\"white\")\n",
    "plt.rcParams[\"figure.figsize\"] = (10, 6)"
   ]
  },
  {
   "cell_type": "markdown",
   "id": "168fce11",
   "metadata": {},
   "source": [
    "## 2. Carregamento e inspeção inicial\n",
    "Carrega shapefiles e valida existência de dados."
   ]
  },
  {
   "cell_type": "code",
   "execution_count": 2,
   "id": "fa0ced46",
   "metadata": {},
   "outputs": [
    {
     "name": "stderr",
     "output_type": "stream",
     "text": [
      "c:\\Users\\pedro\\Documents\\Dev\\desafio-zetta\\.venv\\Lib\\site-packages\\pyogrio\\raw.py:198: RuntimeWarning: data/raw/yearly_deforestation_biome/yearly_deforestation_biome.shp contains polygon(s) with rings with invalid winding order. Autocorrecting them, but that shapefile should be corrected using ogr2ogr for example.\n",
      "  return ogr_read(\n"
     ]
    }
   ],
   "source": [
    "# Definição de caminhos\n",
    "caminho_desmat = \"data/raw/yearly_deforestation_biome/yearly_deforestation_biome.shp\"\n",
    "caminho_mun = \"data/raw/PA_Municipios_2024/PA_Municipios_2024.shp\"\n",
    "\n",
    "# Leitura com fallback\n",
    "try:\n",
    "    gdf_desmat = gpd.read_file(caminho_desmat)\n",
    "    gdf_mun = gpd.read_file(caminho_mun)\n",
    "except Exception as e:\n",
    "    print(f\"Erro ao carregar shapefiles: {e}\")\n",
    "    gdf_desmat, gdf_mun = gpd.GeoDataFrame(), gpd.GeoDataFrame()"
   ]
  },
  {
   "cell_type": "markdown",
   "id": "9dac963a",
   "metadata": {},
   "source": [
    "## 3. Processamento geoespacial\n",
    "Filtra Pará, harmoniza CRS e calcula interseções."
   ]
  },
  {
   "cell_type": "code",
   "execution_count": 3,
   "id": "85027ff8",
   "metadata": {},
   "outputs": [],
   "source": [
    "# Filtro apenas Pará\n",
    "if 'state' in gdf_desmat.columns:\n",
    "    gdf_desmat = gdf_desmat[gdf_desmat['state'] == \"PA\"]\n",
    "\n",
    "# Ajuste de CRS\n",
    "if not gdf_desmat.empty and not gdf_mun.empty and gdf_desmat.crs != gdf_mun.crs:\n",
    "    gdf_mun = gdf_mun.to_crs(gdf_desmat.crs)\n",
    "\n",
    "# Campos essenciais\n",
    "if 'uuid' in gdf_desmat.columns:\n",
    "    gdf_desmat = gdf_desmat.rename(columns={'uuid': 'id_desmat'})\n",
    "gdf_desmat = gdf_desmat[['id_desmat', 'year', 'area_km', 'geometry']]\n",
    "gdf_mun = gdf_mun[['CD_MUN', 'NM_MUN', 'geometry']]\n",
    "\n",
    "# Correção de geometrias\n",
    "gdf_desmat['geometry'] = gdf_desmat.geometry.buffer(0)\n",
    "gdf_mun['geometry'] = gdf_mun.geometry.buffer(0)\n",
    "\n",
    "# Interseção e cálculo de área (km²)\n",
    "gdf_inter = gpd.overlay(gdf_desmat, gdf_mun, how='intersection')\n",
    "gdf_inter['area_km2'] = gdf_inter.to_crs('EPSG:5880').area / 1e6"
   ]
  },
  {
   "cell_type": "markdown",
   "id": "efff4694",
   "metadata": {},
   "source": [
    "## 4. Agregação e exportação (Bronze)\n",
    "Soma áreas por município e ano, gera CSV intermediário."
   ]
  },
  {
   "cell_type": "code",
   "execution_count": 4,
   "id": "6efe9ea1",
   "metadata": {},
   "outputs": [],
   "source": [
    "# Agrupar e pivotar\n",
    "\n",
    "df_ano = (\n",
    "    gdf_inter\n",
    "    .groupby(['CD_MUN', 'NM_MUN', 'year'])['area_km2']\n",
    "    .sum()\n",
    "    .reset_index()\n",
    ")\n",
    "df_pivot = (\n",
    "    df_ano\n",
    "    .pivot_table(\n",
    "        index=['CD_MUN', 'NM_MUN'],\n",
    "        columns='year',\n",
    "        values='area_km2',\n",
    "        fill_value=0\n",
    "    )\n",
    "    .reset_index()\n",
    ")\n",
    "anos = [c for c in df_pivot.columns if str(c).isdigit()]\n",
    "df_pivot['total_km2'] = df_pivot[anos].sum(axis=1)\n",
    "\n",
    "# Exportar Bronze\n",
    "os.makedirs(\"data/bronze\", exist_ok=True)\n",
    "df_pivot.to_csv(\"data/bronze/desmatamento_municipio_ano.csv\", index=False, encoding='utf-8-sig')"
   ]
  },
  {
   "cell_type": "markdown",
   "id": "309632af",
   "metadata": {},
   "source": [
    "## 5. Integração socioeconômica e exportação (Silver)\n",
    "Une dados bronze com IPS e calcula proporção de desmatamento."
   ]
  },
  {
   "cell_type": "code",
   "execution_count": 5,
   "id": "747c3289",
   "metadata": {},
   "outputs": [],
   "source": [
    "bronze = \"data/bronze\"\n",
    "silver = \"data/silver\"\n",
    "os.makedirs(silver, exist_ok=True)\n",
    "\n",
    "ips = pd.read_csv(f\"{bronze}/ips_brasil_municipios.csv\", dtype={\"Código IBGE\": str})\n",
    "ips = ips.rename(columns={\"Código IBGE\": \"CD_MUN\"})\n",
    "desmat = pd.read_csv(f\"{bronze}/desmatamento_municipio_ano.csv\", dtype={\"CD_MUN\": str})\n",
    "\n",
    "df = desmat.merge(ips, on=\"CD_MUN\", how=\"left\")\n",
    "df = df.rename(columns={\"Área (km²)\": \"area_municipio_km2\"})\n",
    "df[\"desmat_prop\"] = df[\"total_km2\"] / df[\"area_municipio_km2\"]\n",
    "\n",
    "df.to_csv(f\"{silver}/municipios_analise.csv\", index=False, encoding='utf-8-sig')"
   ]
  },
  {
   "cell_type": "markdown",
   "id": "6ecc8efb",
   "metadata": {},
   "source": [
    "## 6. Análise exploratória (Correlação e PCA)\n",
    "Normaliza variáveis, calcula matriz de correlação e aplica PCA."
   ]
  },
  {
   "cell_type": "code",
   "execution_count": 6,
   "id": "34a8772a",
   "metadata": {},
   "outputs": [
    {
     "ename": "ValueError",
     "evalue": "Found array with 0 sample(s) (shape=(0, 6)) while a minimum of 1 is required by StandardScaler.",
     "output_type": "error",
     "traceback": [
      "\u001b[31m---------------------------------------------------------------------------\u001b[39m",
      "\u001b[31mValueError\u001b[39m                                Traceback (most recent call last)",
      "\u001b[36mCell\u001b[39m\u001b[36m \u001b[39m\u001b[32mIn[6]\u001b[39m\u001b[32m, line 15\u001b[39m\n\u001b[32m     13\u001b[39m \u001b[38;5;66;03m# PCA para 2 componentes\u001b[39;00m\n\u001b[32m     14\u001b[39m pca = PCA(n_components=\u001b[32m2\u001b[39m)\n\u001b[32m---> \u001b[39m\u001b[32m15\u001b[39m X = \u001b[43mStandardScaler\u001b[49m\u001b[43m(\u001b[49m\u001b[43m)\u001b[49m\u001b[43m.\u001b[49m\u001b[43mfit_transform\u001b[49m\u001b[43m(\u001b[49m\u001b[43mdata_norm\u001b[49m\u001b[43m.\u001b[49m\u001b[43mdropna\u001b[49m\u001b[43m(\u001b[49m\u001b[43m)\u001b[49m\u001b[43m)\u001b[49m\n\u001b[32m     16\u001b[39m pca_result = pca.fit_transform(X)\n",
      "\u001b[36mFile \u001b[39m\u001b[32mc:\\Users\\pedro\\Documents\\Dev\\desafio-zetta\\.venv\\Lib\\site-packages\\sklearn\\utils\\_set_output.py:319\u001b[39m, in \u001b[36m_wrap_method_output.<locals>.wrapped\u001b[39m\u001b[34m(self, X, *args, **kwargs)\u001b[39m\n\u001b[32m    317\u001b[39m \u001b[38;5;129m@wraps\u001b[39m(f)\n\u001b[32m    318\u001b[39m \u001b[38;5;28;01mdef\u001b[39;00m\u001b[38;5;250m \u001b[39m\u001b[34mwrapped\u001b[39m(\u001b[38;5;28mself\u001b[39m, X, *args, **kwargs):\n\u001b[32m--> \u001b[39m\u001b[32m319\u001b[39m     data_to_wrap = \u001b[43mf\u001b[49m\u001b[43m(\u001b[49m\u001b[38;5;28;43mself\u001b[39;49m\u001b[43m,\u001b[49m\u001b[43m \u001b[49m\u001b[43mX\u001b[49m\u001b[43m,\u001b[49m\u001b[43m \u001b[49m\u001b[43m*\u001b[49m\u001b[43margs\u001b[49m\u001b[43m,\u001b[49m\u001b[43m \u001b[49m\u001b[43m*\u001b[49m\u001b[43m*\u001b[49m\u001b[43mkwargs\u001b[49m\u001b[43m)\u001b[49m\n\u001b[32m    320\u001b[39m     \u001b[38;5;28;01mif\u001b[39;00m \u001b[38;5;28misinstance\u001b[39m(data_to_wrap, \u001b[38;5;28mtuple\u001b[39m):\n\u001b[32m    321\u001b[39m         \u001b[38;5;66;03m# only wrap the first output for cross decomposition\u001b[39;00m\n\u001b[32m    322\u001b[39m         return_tuple = (\n\u001b[32m    323\u001b[39m             _wrap_data_with_container(method, data_to_wrap[\u001b[32m0\u001b[39m], X, \u001b[38;5;28mself\u001b[39m),\n\u001b[32m    324\u001b[39m             *data_to_wrap[\u001b[32m1\u001b[39m:],\n\u001b[32m    325\u001b[39m         )\n",
      "\u001b[36mFile \u001b[39m\u001b[32mc:\\Users\\pedro\\Documents\\Dev\\desafio-zetta\\.venv\\Lib\\site-packages\\sklearn\\base.py:918\u001b[39m, in \u001b[36mTransformerMixin.fit_transform\u001b[39m\u001b[34m(self, X, y, **fit_params)\u001b[39m\n\u001b[32m    903\u001b[39m         warnings.warn(\n\u001b[32m    904\u001b[39m             (\n\u001b[32m    905\u001b[39m                 \u001b[33mf\u001b[39m\u001b[33m\"\u001b[39m\u001b[33mThis object (\u001b[39m\u001b[38;5;132;01m{\u001b[39;00m\u001b[38;5;28mself\u001b[39m.\u001b[34m__class__\u001b[39m.\u001b[34m__name__\u001b[39m\u001b[38;5;132;01m}\u001b[39;00m\u001b[33m) has a `transform`\u001b[39m\u001b[33m\"\u001b[39m\n\u001b[32m   (...)\u001b[39m\u001b[32m    913\u001b[39m             \u001b[38;5;167;01mUserWarning\u001b[39;00m,\n\u001b[32m    914\u001b[39m         )\n\u001b[32m    916\u001b[39m \u001b[38;5;28;01mif\u001b[39;00m y \u001b[38;5;129;01mis\u001b[39;00m \u001b[38;5;28;01mNone\u001b[39;00m:\n\u001b[32m    917\u001b[39m     \u001b[38;5;66;03m# fit method of arity 1 (unsupervised transformation)\u001b[39;00m\n\u001b[32m--> \u001b[39m\u001b[32m918\u001b[39m     \u001b[38;5;28;01mreturn\u001b[39;00m \u001b[38;5;28;43mself\u001b[39;49m\u001b[43m.\u001b[49m\u001b[43mfit\u001b[49m\u001b[43m(\u001b[49m\u001b[43mX\u001b[49m\u001b[43m,\u001b[49m\u001b[43m \u001b[49m\u001b[43m*\u001b[49m\u001b[43m*\u001b[49m\u001b[43mfit_params\u001b[49m\u001b[43m)\u001b[49m.transform(X)\n\u001b[32m    919\u001b[39m \u001b[38;5;28;01melse\u001b[39;00m:\n\u001b[32m    920\u001b[39m     \u001b[38;5;66;03m# fit method of arity 2 (supervised transformation)\u001b[39;00m\n\u001b[32m    921\u001b[39m     \u001b[38;5;28;01mreturn\u001b[39;00m \u001b[38;5;28mself\u001b[39m.fit(X, y, **fit_params).transform(X)\n",
      "\u001b[36mFile \u001b[39m\u001b[32mc:\\Users\\pedro\\Documents\\Dev\\desafio-zetta\\.venv\\Lib\\site-packages\\sklearn\\preprocessing\\_data.py:894\u001b[39m, in \u001b[36mStandardScaler.fit\u001b[39m\u001b[34m(self, X, y, sample_weight)\u001b[39m\n\u001b[32m    892\u001b[39m \u001b[38;5;66;03m# Reset internal state before fitting\u001b[39;00m\n\u001b[32m    893\u001b[39m \u001b[38;5;28mself\u001b[39m._reset()\n\u001b[32m--> \u001b[39m\u001b[32m894\u001b[39m \u001b[38;5;28;01mreturn\u001b[39;00m \u001b[38;5;28;43mself\u001b[39;49m\u001b[43m.\u001b[49m\u001b[43mpartial_fit\u001b[49m\u001b[43m(\u001b[49m\u001b[43mX\u001b[49m\u001b[43m,\u001b[49m\u001b[43m \u001b[49m\u001b[43my\u001b[49m\u001b[43m,\u001b[49m\u001b[43m \u001b[49m\u001b[43msample_weight\u001b[49m\u001b[43m)\u001b[49m\n",
      "\u001b[36mFile \u001b[39m\u001b[32mc:\\Users\\pedro\\Documents\\Dev\\desafio-zetta\\.venv\\Lib\\site-packages\\sklearn\\base.py:1389\u001b[39m, in \u001b[36m_fit_context.<locals>.decorator.<locals>.wrapper\u001b[39m\u001b[34m(estimator, *args, **kwargs)\u001b[39m\n\u001b[32m   1382\u001b[39m     estimator._validate_params()\n\u001b[32m   1384\u001b[39m \u001b[38;5;28;01mwith\u001b[39;00m config_context(\n\u001b[32m   1385\u001b[39m     skip_parameter_validation=(\n\u001b[32m   1386\u001b[39m         prefer_skip_nested_validation \u001b[38;5;129;01mor\u001b[39;00m global_skip_validation\n\u001b[32m   1387\u001b[39m     )\n\u001b[32m   1388\u001b[39m ):\n\u001b[32m-> \u001b[39m\u001b[32m1389\u001b[39m     \u001b[38;5;28;01mreturn\u001b[39;00m \u001b[43mfit_method\u001b[49m\u001b[43m(\u001b[49m\u001b[43mestimator\u001b[49m\u001b[43m,\u001b[49m\u001b[43m \u001b[49m\u001b[43m*\u001b[49m\u001b[43margs\u001b[49m\u001b[43m,\u001b[49m\u001b[43m \u001b[49m\u001b[43m*\u001b[49m\u001b[43m*\u001b[49m\u001b[43mkwargs\u001b[49m\u001b[43m)\u001b[49m\n",
      "\u001b[36mFile \u001b[39m\u001b[32mc:\\Users\\pedro\\Documents\\Dev\\desafio-zetta\\.venv\\Lib\\site-packages\\sklearn\\preprocessing\\_data.py:930\u001b[39m, in \u001b[36mStandardScaler.partial_fit\u001b[39m\u001b[34m(self, X, y, sample_weight)\u001b[39m\n\u001b[32m    898\u001b[39m \u001b[38;5;250m\u001b[39m\u001b[33;03m\"\"\"Online computation of mean and std on X for later scaling.\u001b[39;00m\n\u001b[32m    899\u001b[39m \n\u001b[32m    900\u001b[39m \u001b[33;03mAll of X is processed as a single batch. This is intended for cases\u001b[39;00m\n\u001b[32m   (...)\u001b[39m\u001b[32m    927\u001b[39m \u001b[33;03m    Fitted scaler.\u001b[39;00m\n\u001b[32m    928\u001b[39m \u001b[33;03m\"\"\"\u001b[39;00m\n\u001b[32m    929\u001b[39m first_call = \u001b[38;5;129;01mnot\u001b[39;00m \u001b[38;5;28mhasattr\u001b[39m(\u001b[38;5;28mself\u001b[39m, \u001b[33m\"\u001b[39m\u001b[33mn_samples_seen_\u001b[39m\u001b[33m\"\u001b[39m)\n\u001b[32m--> \u001b[39m\u001b[32m930\u001b[39m X = \u001b[43mvalidate_data\u001b[49m\u001b[43m(\u001b[49m\n\u001b[32m    931\u001b[39m \u001b[43m    \u001b[49m\u001b[38;5;28;43mself\u001b[39;49m\u001b[43m,\u001b[49m\n\u001b[32m    932\u001b[39m \u001b[43m    \u001b[49m\u001b[43mX\u001b[49m\u001b[43m,\u001b[49m\n\u001b[32m    933\u001b[39m \u001b[43m    \u001b[49m\u001b[43maccept_sparse\u001b[49m\u001b[43m=\u001b[49m\u001b[43m(\u001b[49m\u001b[33;43m\"\u001b[39;49m\u001b[33;43mcsr\u001b[39;49m\u001b[33;43m\"\u001b[39;49m\u001b[43m,\u001b[49m\u001b[43m \u001b[49m\u001b[33;43m\"\u001b[39;49m\u001b[33;43mcsc\u001b[39;49m\u001b[33;43m\"\u001b[39;49m\u001b[43m)\u001b[49m\u001b[43m,\u001b[49m\n\u001b[32m    934\u001b[39m \u001b[43m    \u001b[49m\u001b[43mdtype\u001b[49m\u001b[43m=\u001b[49m\u001b[43mFLOAT_DTYPES\u001b[49m\u001b[43m,\u001b[49m\n\u001b[32m    935\u001b[39m \u001b[43m    \u001b[49m\u001b[43mensure_all_finite\u001b[49m\u001b[43m=\u001b[49m\u001b[33;43m\"\u001b[39;49m\u001b[33;43mallow-nan\u001b[39;49m\u001b[33;43m\"\u001b[39;49m\u001b[43m,\u001b[49m\n\u001b[32m    936\u001b[39m \u001b[43m    \u001b[49m\u001b[43mreset\u001b[49m\u001b[43m=\u001b[49m\u001b[43mfirst_call\u001b[49m\u001b[43m,\u001b[49m\n\u001b[32m    937\u001b[39m \u001b[43m\u001b[49m\u001b[43m)\u001b[49m\n\u001b[32m    938\u001b[39m n_features = X.shape[\u001b[32m1\u001b[39m]\n\u001b[32m    940\u001b[39m \u001b[38;5;28;01mif\u001b[39;00m sample_weight \u001b[38;5;129;01mis\u001b[39;00m \u001b[38;5;129;01mnot\u001b[39;00m \u001b[38;5;28;01mNone\u001b[39;00m:\n",
      "\u001b[36mFile \u001b[39m\u001b[32mc:\\Users\\pedro\\Documents\\Dev\\desafio-zetta\\.venv\\Lib\\site-packages\\sklearn\\utils\\validation.py:2944\u001b[39m, in \u001b[36mvalidate_data\u001b[39m\u001b[34m(_estimator, X, y, reset, validate_separately, skip_check_array, **check_params)\u001b[39m\n\u001b[32m   2942\u001b[39m         out = X, y\n\u001b[32m   2943\u001b[39m \u001b[38;5;28;01melif\u001b[39;00m \u001b[38;5;129;01mnot\u001b[39;00m no_val_X \u001b[38;5;129;01mand\u001b[39;00m no_val_y:\n\u001b[32m-> \u001b[39m\u001b[32m2944\u001b[39m     out = \u001b[43mcheck_array\u001b[49m\u001b[43m(\u001b[49m\u001b[43mX\u001b[49m\u001b[43m,\u001b[49m\u001b[43m \u001b[49m\u001b[43minput_name\u001b[49m\u001b[43m=\u001b[49m\u001b[33;43m\"\u001b[39;49m\u001b[33;43mX\u001b[39;49m\u001b[33;43m\"\u001b[39;49m\u001b[43m,\u001b[49m\u001b[43m \u001b[49m\u001b[43m*\u001b[49m\u001b[43m*\u001b[49m\u001b[43mcheck_params\u001b[49m\u001b[43m)\u001b[49m\n\u001b[32m   2945\u001b[39m \u001b[38;5;28;01melif\u001b[39;00m no_val_X \u001b[38;5;129;01mand\u001b[39;00m \u001b[38;5;129;01mnot\u001b[39;00m no_val_y:\n\u001b[32m   2946\u001b[39m     out = _check_y(y, **check_params)\n",
      "\u001b[36mFile \u001b[39m\u001b[32mc:\\Users\\pedro\\Documents\\Dev\\desafio-zetta\\.venv\\Lib\\site-packages\\sklearn\\utils\\validation.py:1130\u001b[39m, in \u001b[36mcheck_array\u001b[39m\u001b[34m(array, accept_sparse, accept_large_sparse, dtype, order, copy, force_writeable, force_all_finite, ensure_all_finite, ensure_non_negative, ensure_2d, allow_nd, ensure_min_samples, ensure_min_features, estimator, input_name)\u001b[39m\n\u001b[32m   1128\u001b[39m     n_samples = _num_samples(array)\n\u001b[32m   1129\u001b[39m     \u001b[38;5;28;01mif\u001b[39;00m n_samples < ensure_min_samples:\n\u001b[32m-> \u001b[39m\u001b[32m1130\u001b[39m         \u001b[38;5;28;01mraise\u001b[39;00m \u001b[38;5;167;01mValueError\u001b[39;00m(\n\u001b[32m   1131\u001b[39m             \u001b[33m\"\u001b[39m\u001b[33mFound array with \u001b[39m\u001b[38;5;132;01m%d\u001b[39;00m\u001b[33m sample(s) (shape=\u001b[39m\u001b[38;5;132;01m%s\u001b[39;00m\u001b[33m) while a\u001b[39m\u001b[33m\"\u001b[39m\n\u001b[32m   1132\u001b[39m             \u001b[33m\"\u001b[39m\u001b[33m minimum of \u001b[39m\u001b[38;5;132;01m%d\u001b[39;00m\u001b[33m is required\u001b[39m\u001b[38;5;132;01m%s\u001b[39;00m\u001b[33m.\u001b[39m\u001b[33m\"\u001b[39m\n\u001b[32m   1133\u001b[39m             % (n_samples, array.shape, ensure_min_samples, context)\n\u001b[32m   1134\u001b[39m         )\n\u001b[32m   1136\u001b[39m \u001b[38;5;28;01mif\u001b[39;00m ensure_min_features > \u001b[32m0\u001b[39m \u001b[38;5;129;01mand\u001b[39;00m array.ndim == \u001b[32m2\u001b[39m:\n\u001b[32m   1137\u001b[39m     n_features = array.shape[\u001b[32m1\u001b[39m]\n",
      "\u001b[31mValueError\u001b[39m: Found array with 0 sample(s) (shape=(0, 6)) while a minimum of 1 is required by StandardScaler."
     ]
    }
   ],
   "source": [
    "cols = [\n",
    "    \"desmat_prop\",\n",
    "    \"PIB per capita 2021\",\n",
    "    \"Índice de Progresso Social\",\n",
    "    \"Necessidades Humanas Básicas\",\n",
    "    \"Fundamentos do Bem-estar\",\n",
    "    \"Oportunidades\"\n",
    "]\n",
    "data_norm = (df[cols] - df[cols].min()) / (df[cols].max() - df[cols].min())\n",
    "corr = data_norm.corr()\n",
    "corr.to_csv(f\"{silver}/correlacoes_desmatamento_ips.csv\", index=True)\n",
    "\n",
    "# PCA para 2 componentes\n",
    "pca = PCA(n_components=2)\n",
    "X = StandardScaler().fit_transform(data_norm.dropna())\n",
    "pca_result = pca.fit_transform(X)"
   ]
  },
  {
   "cell_type": "markdown",
   "id": "69b004e0",
   "metadata": {},
   "source": [
    "## 7. Visualizações\n",
    "Série temporal, heatmap de correlação e scatterplots."
   ]
  },
  {
   "cell_type": "code",
   "execution_count": null,
   "id": "f78e939c",
   "metadata": {},
   "outputs": [],
   "source": [
    "# Série temporal de desmatamento\n",
    "ts_df = df_ano.groupby('year')['area_km2'].sum().reset_index()\n",
    "sns.lineplot(data=ts_df, x='year', y='area_km2', marker='o')\n",
    "plt.title('Desmatamento Anual Total')\n",
    "plt.xlabel('Ano')\n",
    "plt.ylabel('Total Desmatado (km²)')\n",
    "plt.tight_layout()\n",
    "plt.show()"
   ]
  },
  {
   "cell_type": "code",
   "execution_count": null,
   "id": "7b84fe7d",
   "metadata": {},
   "outputs": [],
   "source": [
    "# Heatmap de correlação\n",
    "sns.heatmap(corr, annot=True, cmap=\"coolwarm\", fmt=\".2f\")\n",
    "plt.title(\"Correlação Desmatamento x Indicadores\")\n",
    "plt.tight_layout()\n",
    "plt.show()"
   ]
  },
  {
   "cell_type": "code",
   "execution_count": null,
   "id": "639805fb",
   "metadata": {},
   "outputs": [],
   "source": [
    "# Scatterplots estáticos por indicador\n",
    "for var in cols[1:]:\n",
    "    sns.scatterplot(x=var, y=\"desmat_prop\", data=df)\n",
    "    r, _ = pearsonr(df[var], df[\"desmat_prop\"])\n",
    "    plt.title(f\"{var} vs Desmatamento Proporcional (r={r:.2f})\")\n",
    "    plt.tight_layout()\n",
    "    plt.show()"
   ]
  },
  {
   "cell_type": "code",
   "execution_count": null,
   "id": "f239bc23",
   "metadata": {
    "lines_to_next_cell": 2
   },
   "outputs": [],
   "source": []
  },
  {
   "cell_type": "code",
   "execution_count": null,
   "id": "73690663",
   "metadata": {
    "lines_to_next_cell": 2
   },
   "outputs": [],
   "source": []
  }
 ],
 "metadata": {
  "jupytext": {
   "cell_metadata_filter": "-all",
   "main_language": "python",
   "notebook_metadata_filter": "-all"
  },
  "kernelspec": {
   "display_name": ".venv",
   "language": "python",
   "name": "python3"
  },
  "language_info": {
   "codemirror_mode": {
    "name": "ipython",
    "version": 3
   },
   "file_extension": ".py",
   "mimetype": "text/x-python",
   "name": "python",
   "nbconvert_exporter": "python",
   "pygments_lexer": "ipython3",
   "version": "3.11.9"
  }
 },
 "nbformat": 4,
 "nbformat_minor": 5
}
